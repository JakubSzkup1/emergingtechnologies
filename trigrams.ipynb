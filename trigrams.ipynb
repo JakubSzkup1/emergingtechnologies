{
 "cells": [
  {
   "cell_type": "markdown",
   "metadata": {},
   "source": [
    "# Task 1: Third-order letter approximation model\n",
    "\n",
    "In this task, I will create a trigram model of the English language using five english works from Project Gutenberg."
   ]
  },
  {
   "cell_type": "markdown",
   "metadata": {},
   "source": [
    "# Step 1: Prepocessing the Text\n",
    "\n",
    "Text Prepocessing:\n",
    "The first step is to clean and preprocess the text. By doing this i aim to remove all unwanted characters, \n",
    "such as numbers and punctuations expect for fullstops and then convert everything into uppercasel.\n",
    "This will simplify the text and make it uniform, this will allow us to focus only on the sequence of letters,spaces and fullstops.\n",
    "\n",
    "Args:\n",
    "        text (str): The original text to be cleaned.\n",
    "\n",
    "Returns: \n",
    "        str: Cleaned and preprocessed text.\n",
    "\n",
    "I will use Pythons re module to handle the text cleaning."
   ]
  },
  {
   "cell_type": "code",
   "execution_count": 1,
   "metadata": {},
   "outputs": [],
   "source": [
    "# Required Imports\n",
    "import re\n",
    "from collections import defaultdict"
   ]
  },
  {
   "cell_type": "code",
   "execution_count": 5,
   "metadata": {},
   "outputs": [
    {
     "name": "stdout",
     "output_type": "stream",
     "text": [
      " IT    2   T I   3    IS   2   IS    1       \n"
     ]
    }
   ],
   "source": [
    "# Function to preprocess the text\n",
    "def preprocess_text(text):\n",
    "    # Remove all non-alphanumeric characters with a space\n",
    "    clean_text = re.sub(r'[^a-zA-Z0-9]', ' ', text)\n",
    "    # Convert all characters to uppercase\n",
    "    clean_text = clean_text.upper()\n",
    "\n",
    "    return clean_text #Return the cleaned text\n",
    "\n",
    "# Test the function with a sample text\n",
    "text1 = \"This is a sample text. It will be preprocessed to remove all non-alphanumeric characters !!!!! ,,,, and convert all characters to uppercase.\"\n",
    "cleaned_text = preprocess_text(text1)\n",
    "print(cleaned_text)"
   ]
  },
  {
   "cell_type": "markdown",
   "metadata": {},
   "source": [
    "# Explantion of output\n",
    "As you can see above, The text gets preprocessed and changed into all uppercase letters and a gap is also left where non-alphanumeric characters are removed.\n",
    "\n",
    "## Alphanumeric Characters\n",
    "Alphanumeric Characters refer to the combination of **letters (A-Z)** and **numbers (0-9)**, which would be used quiet commonly in computing for passwords, identifiers and any other text-based inputs where both letters and digits are needed.\n",
    "\n",
    "You can find more details in this article: [Alphanumeric Characters - TechTarget](https://www.techtarget.com/whatis/definition/alphanumeric-alphameric).\n"
   ]
  },
  {
   "cell_type": "markdown",
   "metadata": {},
   "source": [
    "## Step 2: Creating the Trigram Model\n",
    "\n",
    "### Trigram Model:\n",
    "A trigram model captures the frequency of every three-character sequence in the text. \n",
    "In this step, I will build a dictionary where each key is a unique trigram and the corresponding value is the number of times that trigram appears in the text.\n",
    "\n",
    "I will use a defaultdict from Python's collections module.\n",
    "\n",
    "This approach is commonly used in **natural language processing (NLP)**, usually for tasks such as text prediction or even language modeling where n-grams, trigrams in this case are created to capture sequnce patterns.\n",
    "\n",
    "Reference: [N-grams in Natural Language Processing](https://en.wikipedia.org/wiki/N-gram)."
   ]
  },
  {
   "cell_type": "markdown",
   "metadata": {},
   "source": []
  }
 ],
 "metadata": {
  "kernelspec": {
   "display_name": "Python 3",
   "language": "python",
   "name": "python3"
  },
  "language_info": {
   "codemirror_mode": {
    "name": "ipython",
    "version": 3
   },
   "file_extension": ".py",
   "mimetype": "text/x-python",
   "name": "python",
   "nbconvert_exporter": "python",
   "pygments_lexer": "ipython3",
   "version": "3.12.1"
  }
 },
 "nbformat": 4,
 "nbformat_minor": 2
}
