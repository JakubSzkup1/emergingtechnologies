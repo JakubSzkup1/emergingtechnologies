{
 "cells": [
  {
   "cell_type": "markdown",
   "metadata": {},
   "source": [
    "# Task 1: Third-order letter approximation model\n",
    "\n",
    "In this task, I will create a trigram model of the English language using five english works from Project Gutenberg."
   ]
  },
  {
   "cell_type": "code",
   "execution_count": null,
   "metadata": {
    "vscode": {
     "languageId": "plaintext"
    }
   },
   "outputs": [],
   "source": [
    "# Step 1: Prepocessing the Text\n",
    "\n",
    "Text Prepocessing:\n",
    "The first step is to clean and preprocess the text. By doing this i aim to remove all unwanted characters, \n",
    "such as numbers and punctuations expect for fullstops and then convert everything into uppercasel.\n",
    "This will simplify the text and make it uniform, this will allow us to focus only on the sequence of letters,spaces and fullstops.\n",
    "\n",
    "Args:\n",
    "        text (str): The original text to be cleaned.\n",
    "\n",
    "Returns: \n",
    "        str: Cleaned and preprocessed text.\n",
    "\n",
    "I will use Pythons re module to handle the text cleaning."
   ]
  },
  {
   "cell_type": "code",
   "execution_count": null,
   "metadata": {},
   "outputs": [],
   "source": [
    "# Required Imports\n",
    "import re\n",
    "from collections import defaultdict"
   ]
  },
  {
   "cell_type": "code",
   "execution_count": null,
   "metadata": {},
   "outputs": [],
   "source": [
    "def preprocess_text(text):\n",
    "    # Remove all non-alphanumeric characters with a space\n",
    "    clean_text = re.sub(r'[^a-zA-Z0-9]', ' ', text)\n",
    "    # Convert all characters to lowercase\n",
    "    clean_text = clean_text.upper()\n",
    "\n",
    "    return text"
   ]
  }
 ],
 "metadata": {
  "language_info": {
   "name": "python"
  }
 },
 "nbformat": 4,
 "nbformat_minor": 2
}
